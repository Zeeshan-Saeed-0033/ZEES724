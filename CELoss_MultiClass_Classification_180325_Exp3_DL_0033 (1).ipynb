{
  "nbformat": 4,
  "nbformat_minor": 0,
  "metadata": {
    "colab": {
      "provenance": []
    },
    "kernelspec": {
      "name": "python3",
      "display_name": "Python 3"
    },
    "language_info": {
      "name": "python"
    }
  },
  "cells": [
    {
      "cell_type": "code",
      "source": [
        "print(\"\\n=== 🔵 1️⃣ Initialize Ground Truth Labels and Logits ===\\n\")\n",
        "\n",
        "import numpy as np\n",
        "\n",
        "# Ground truth labels (one-hot encoded) with 5 classes\n",
        "y_true = np.array([\n",
        "    [1, 0, 0, 0, 0],  # Sample 1: Class 1\n",
        "    [0, 1, 0, 0, 0],  # Sample 2: Class 2\n",
        "    [0, 0, 1, 0, 0],  # Sample 3: Class 3\n",
        "    [0, 0, 0, 1, 0],  # Sample 4: Class 4 (New)\n",
        "    [0, 0, 0, 0, 1],  # Sample 5: Class 5 (New)\n",
        "])\n",
        "\n",
        "# Model predictions (logits) with 5 classes\n",
        "logits = np.array([\n",
        "    [2.0, 1.0, 0.1, -0.5, -1.2],  # Sample 1\n",
        "    [0.5, 2.5, 0.2, 0.1, -0.8],   # Sample 2\n",
        "    [0.1, 0.2, 3.0, -0.3, -1.5],  # Sample 3\n",
        "    [1.8, 0.9, 0.2, 2.5, -0.6],   # Sample 4 (New)\n",
        "    [0.3, 0.1, 2.8, -0.7, 3.2]    # Sample 5 (New)\n",
        "])\n",
        "\n",
        "# Print values\n",
        "print(f\"y_true (Ground Truth Labels):\\n{y_true}\")\n",
        "print(f\"\\nlogits (Model Predictions):\\n{logits}\")"
      ],
      "metadata": {
        "colab": {
          "base_uri": "https://localhost:8080/"
        },
        "id": "RCC8jTwBKgIc",
        "outputId": "ac6b8172-6870-4a31-9d7f-b7286e1ef374"
      },
      "execution_count": 15,
      "outputs": [
        {
          "output_type": "stream",
          "name": "stdout",
          "text": [
            "\n",
            "=== 🔵 1️⃣ Initialize Ground Truth Labels and Logits ===\n",
            "\n",
            "y_true (Ground Truth Labels):\n",
            "[[1 0 0 0 0]\n",
            " [0 1 0 0 0]\n",
            " [0 0 1 0 0]\n",
            " [0 0 0 1 0]\n",
            " [0 0 0 0 1]]\n",
            "\n",
            "logits (Model Predictions):\n",
            "[[ 2.   1.   0.1 -0.5 -1.2]\n",
            " [ 0.5  2.5  0.2  0.1 -0.8]\n",
            " [ 0.1  0.2  3.  -0.3 -1.5]\n",
            " [ 1.8  0.9  0.2  2.5 -0.6]\n",
            " [ 0.3  0.1  2.8 -0.7  3.2]]\n"
          ]
        }
      ]
    },
    {
      "cell_type": "code",
      "source": [
        "print(\"\\n=== 🔵 2️⃣ Define and Apply Softmax Function ===\\n\")\n",
        "\n",
        "# Softmax function\n",
        "def softmax(x):\n",
        "    exp_x = np.exp(x - np.max(x, axis=-1, keepdims=True))  # Numerical stability\n",
        "    return exp_x / np.sum(exp_x, axis=-1, keepdims=True)\n",
        "\n",
        "# Compute softmax probabilities\n",
        "probs = softmax(logits)\n",
        "\n",
        "# Print softmax output\n",
        "print(\"Softmax Probabilities:\\n\", probs)\n"
      ],
      "metadata": {
        "colab": {
          "base_uri": "https://localhost:8080/"
        },
        "id": "kgm-StaBKkIj",
        "outputId": "8f5ec47b-8420-401e-d3f0-5642d6ac9955"
      },
      "execution_count": 16,
      "outputs": [
        {
          "output_type": "stream",
          "name": "stdout",
          "text": [
            "\n",
            "=== 🔵 2️⃣ Define and Apply Softmax Function ===\n",
            "\n",
            "Softmax Probabilities:\n",
            " [[0.60964634 0.22427635 0.09118396 0.05004282 0.02485053]\n",
            " [0.09927799 0.73357063 0.07354694 0.06654803 0.02705641]\n",
            " [0.0472779  0.05225016 0.85923538 0.03169132 0.00954524]\n",
            " [0.26932858 0.10950083 0.0543765  0.54236115 0.02443294]\n",
            " [0.03072834 0.02515824 0.3743478  0.01130432 0.5584613 ]]\n"
          ]
        }
      ]
    },
    {
      "cell_type": "code",
      "source": [
        "print(\"\\n=== 🔵 3️⃣ Compute Log of Softmax Probabilities ===\\n\")\n",
        "\n",
        "# Compute log(probs)\n",
        "log_probs = np.log(probs)\n",
        "\n",
        "# Print log probabilities\n",
        "print(\"Log of Softmax Probabilities:\\n\", log_probs)\n"
      ],
      "metadata": {
        "colab": {
          "base_uri": "https://localhost:8080/"
        },
        "id": "LU19KKXvKngi",
        "outputId": "d8c4bc89-7e31-43d7-b2d6-856fa4d186c3"
      },
      "execution_count": 17,
      "outputs": [
        {
          "output_type": "stream",
          "name": "stdout",
          "text": [
            "\n",
            "=== 🔵 3️⃣ Compute Log of Softmax Probabilities ===\n",
            "\n",
            "Log of Softmax Probabilities:\n",
            " [[-0.49487626 -1.49487626 -2.39487626 -2.99487626 -3.69487626]\n",
            " [-2.30983139 -0.30983139 -2.60983139 -2.70983139 -3.60983139]\n",
            " [-3.05171238 -2.95171238 -0.15171238 -3.45171238 -4.65171238]\n",
            " [-1.31182316 -2.21182316 -2.91182316 -0.61182316 -3.71182316]\n",
            " [-3.48256996 -3.68256996 -0.98256996 -4.48256996 -0.58256996]]\n"
          ]
        }
      ]
    },
    {
      "cell_type": "code",
      "source": [
        "print(\"\\n=== 🔵 4️⃣ Compute y_true * log(probs) ===\\n\")\n",
        "\n",
        "# Compute y_true * log(probs)\n",
        "y_true_log_probs = y_true * log_probs\n",
        "\n",
        "# Print element-wise product\n",
        "print(\"y_true * log(probs):\\n\", y_true_log_probs)\n"
      ],
      "metadata": {
        "colab": {
          "base_uri": "https://localhost:8080/"
        },
        "id": "de_rl5uWKu5K",
        "outputId": "244384d0-2b29-40ed-c631-8f7c8258c058"
      },
      "execution_count": 18,
      "outputs": [
        {
          "output_type": "stream",
          "name": "stdout",
          "text": [
            "\n",
            "=== 🔵 4️⃣ Compute y_true * log(probs) ===\n",
            "\n",
            "y_true * log(probs):\n",
            " [[-0.49487626 -0.         -0.         -0.         -0.        ]\n",
            " [-0.         -0.30983139 -0.         -0.         -0.        ]\n",
            " [-0.         -0.         -0.15171238 -0.         -0.        ]\n",
            " [-0.         -0.         -0.         -0.61182316 -0.        ]\n",
            " [-0.         -0.         -0.         -0.         -0.58256996]]\n"
          ]
        }
      ]
    },
    {
      "cell_type": "code",
      "source": [
        "print(\"\\n=== 🔵 5️⃣ Compute CE Loss per Sample ===\\n\")\n",
        "\n",
        "# Compute CE loss for each sample\n",
        "ce_loss = -np.sum(y_true_log_probs, axis=-1)\n",
        "\n",
        "# Print CE loss for each sample\n",
        "print(\"CE Loss per Sample:\", ce_loss)\n"
      ],
      "metadata": {
        "colab": {
          "base_uri": "https://localhost:8080/"
        },
        "id": "1zCA1zZ3K00p",
        "outputId": "7758bb54-4ec9-4dc3-8b21-3a7d38fcd852"
      },
      "execution_count": 19,
      "outputs": [
        {
          "output_type": "stream",
          "name": "stdout",
          "text": [
            "\n",
            "=== 🔵 5️⃣ Compute CE Loss per Sample ===\n",
            "\n",
            "CE Loss per Sample: [0.49487626 0.30983139 0.15171238 0.61182316 0.58256996]\n"
          ]
        }
      ]
    },
    {
      "cell_type": "code",
      "source": [
        "print(\"\\n=== 🔵 6️⃣ Compute Average CE Loss for the Dataset ===\\n\")\n",
        "\n",
        "# Average CE loss for the dataset\n",
        "avg_ce_loss = np.mean(ce_loss)\n",
        "\n",
        "# Print average CE loss\n",
        "print(\"Average CE Loss for the Dataset:\", avg_ce_loss)\n"
      ],
      "metadata": {
        "colab": {
          "base_uri": "https://localhost:8080/"
        },
        "id": "Wszt0_1QK4_J",
        "outputId": "0412424a-ffb5-4bf9-d70c-7b678b447793"
      },
      "execution_count": 20,
      "outputs": [
        {
          "output_type": "stream",
          "name": "stdout",
          "text": [
            "\n",
            "=== 🔵 6️⃣ Compute Average CE Loss for the Dataset ===\n",
            "\n",
            "Average CE Loss for the Dataset: 0.4301626312958994\n"
          ]
        }
      ]
    }
  ]
}