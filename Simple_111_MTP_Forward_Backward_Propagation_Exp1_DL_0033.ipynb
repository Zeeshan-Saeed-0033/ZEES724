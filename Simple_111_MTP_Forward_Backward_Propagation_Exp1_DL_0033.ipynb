{
  "nbformat": 4,
  "nbformat_minor": 0,
  "metadata": {
    "colab": {
      "provenance": []
    },
    "kernelspec": {
      "name": "python3",
      "display_name": "Python 3"
    },
    "language_info": {
      "name": "python"
    }
  },
  "cells": [
    {
      "cell_type": "code",
      "execution_count": 1,
      "metadata": {
        "colab": {
          "base_uri": "https://localhost:8080/"
        },
        "id": "zEkZFjUVNasN",
        "outputId": "baa4e2ab-cea0-4b38-e963-00099b1fefe2"
      },
      "outputs": [
        {
          "output_type": "stream",
          "name": "stdout",
          "text": [
            "\n",
            "=== 🔵 1️⃣ Initialize Values ===\n",
            "\n",
            "A1 (Input): [[0.1]]\n",
            "W2 (Weights - Layer 2): [[0.2]]\n",
            "W3 (Weights - Layer 3): [[0.3]]\n",
            "b2 (Bias - Layer 2): [[0.]]\n",
            "b3 (Bias - Layer 3): [[0.]]\n",
            "R (Expected Output): [[0.01]]\n",
            "Alpha (Learning Rate): 0.5\n",
            "Epochs: 2\n"
          ]
        }
      ],
      "source": [
        "print(\"\\n=== 🔵 1️⃣ Initialize Values ===\\n\")\n",
        "\n",
        "import numpy as np\n",
        "import matplotlib.pyplot as plt\n",
        "\n",
        "# Given values\n",
        "A1 = np.array([[0.10]])\n",
        "W2 = np.array([[0.20]])\n",
        "W3 = np.array([[0.30]])\n",
        "b2 = np.array([[0.0]])\n",
        "b3 = np.array([[0.0]])\n",
        "\n",
        "R = np.array([[0.01]])\n",
        "\n",
        "# Learning rate\n",
        "alpha = 0.5\n",
        "\n",
        "# Number of epochs\n",
        "epochs = 2\n",
        "\n",
        "# Print initialized values\n",
        "print(f\"A1 (Input): {A1}\")\n",
        "print(f\"W2 (Weights - Layer 2): {W2}\")\n",
        "print(f\"W3 (Weights - Layer 3): {W3}\")\n",
        "print(f\"b2 (Bias - Layer 2): {b2}\")\n",
        "print(f\"b3 (Bias - Layer 3): {b3}\")\n",
        "print(f\"R (Expected Output): {R}\")\n",
        "print(f\"Alpha (Learning Rate): {alpha}\")\n",
        "print(f\"Epochs: {epochs}\")\n"
      ]
    },
    {
      "cell_type": "code",
      "source": [
        "print(\"\\n=== 🔵 2️⃣ Define Activation Functions ===\\n\")\n",
        "\n",
        "# Sigmoid activation function\n",
        "def sigmoid(x):\n",
        "    return 1 / (1 + np.exp(-x))\n",
        "\n",
        "# Derivative of sigmoid function\n",
        "def sigmoid_derivative(x):\n",
        "    return sigmoid(x) * (1 - sigmoid(x))\n",
        "\n",
        "# Test the functions with a sample value\n",
        "test_value = np.array([[0], [1], [-1]])\n",
        "print(\"Sigmoid Function Test:\")\n",
        "print(f\"Input: {test_value}\")\n",
        "print(f\"Sigmoid Output: {sigmoid(test_value)}\")\n",
        "print(f\"Sigmoid Derivative Output: {sigmoid_derivative(test_value)}\")\n"
      ],
      "metadata": {
        "colab": {
          "base_uri": "https://localhost:8080/"
        },
        "id": "fzPvE1xANqH7",
        "outputId": "12154b84-829a-4e96-c6a1-9b25ada62a53"
      },
      "execution_count": 2,
      "outputs": [
        {
          "output_type": "stream",
          "name": "stdout",
          "text": [
            "\n",
            "=== 🔵 2️⃣ Define Activation Functions ===\n",
            "\n",
            "Sigmoid Function Test:\n",
            "Input: [[ 0]\n",
            " [ 1]\n",
            " [-1]]\n",
            "Sigmoid Output: [[0.5       ]\n",
            " [0.73105858]\n",
            " [0.26894142]]\n",
            "Sigmoid Derivative Output: [[0.25      ]\n",
            " [0.19661193]\n",
            " [0.19661193]]\n"
          ]
        }
      ]
    },
    {
      "cell_type": "code",
      "source": [
        "print(\"\\n=== 🔵 3️⃣ Training the Neural Network ===\\n\")\n",
        "\n",
        "# Initialize an array to store total errors\n",
        "errors = np.zeros(epochs)\n",
        "\n",
        "# Loop through epochs\n",
        "for epoch in range(epochs):\n",
        "    print(f\"\\n=== 🟠 Epoch {epoch + 1} ===\\n\")\n",
        "\n",
        "    # Forward pass calculations\n",
        "    Z2 = np.dot(W2, A1) + b2\n",
        "    A2 = sigmoid(Z2)\n",
        "\n",
        "    Z3 = np.dot(W3, A2) + b3\n",
        "    A3 = sigmoid(Z3)\n",
        "\n",
        "    # Print forward pass values\n",
        "    print(f\"Z2: {Z2}\")\n",
        "    print(f\"A2: {A2}\")\n",
        "    print(f\"Z3: {Z3}\")\n",
        "    print(f\"A3: {A3}\")\n",
        "\n",
        "    # Calculate Deltas\n",
        "    D3 = (A3 - R) * sigmoid_derivative(Z3)\n",
        "    D2 = np.dot(W3.T, D3) * sigmoid_derivative(Z2)\n",
        "\n",
        "    # Print deltas\n",
        "    print(f\"D3: {D3}\")\n",
        "    print(f\"D2: {D2}\")\n",
        "\n",
        "    # Calculate gradients\n",
        "    grad_W3 = np.dot(D3, A2.T)\n",
        "    grad_b3 = D3\n",
        "    grad_W2 = np.dot(D2, A1.T)\n",
        "    grad_b2 = D2\n",
        "\n",
        "    # Print gradients\n",
        "    print(f\"grad_W3: {grad_W3}\")\n",
        "    print(f\"grad_b3: {grad_b3}\")\n",
        "    print(f\"grad_W2: {grad_W2}\")\n",
        "    print(f\"grad_b2: {grad_b2}\")\n",
        "\n",
        "    # Update weights and biases\n",
        "    W2 = W2 - alpha * grad_W2\n",
        "    b2 = b2 - alpha * grad_b2\n",
        "\n",
        "    W3 = W3 - alpha * grad_W3\n",
        "    b3 = b3 - alpha * grad_b3\n",
        "\n",
        "    # Print updated values\n",
        "    print(f\"\\nUpdated W2: {W2}\")\n",
        "    print(f\"Updated b2: {b2}\")\n",
        "    print(f\"Updated W3: {W3}\")\n",
        "    print(f\"Updated b3: {b3}\")\n",
        "\n",
        "    # Calculate total error and store in array\n",
        "    total_error = np.sum((A3 - R) ** 2)\n",
        "    errors[epoch] = total_error\n",
        "    print(f\"Total Error: {total_error}\")\n"
      ],
      "metadata": {
        "colab": {
          "base_uri": "https://localhost:8080/"
        },
        "id": "iMIk288CNs9b",
        "outputId": "33cbef3d-abd1-4670-d5e2-1ac74609b77e"
      },
      "execution_count": 3,
      "outputs": [
        {
          "output_type": "stream",
          "name": "stdout",
          "text": [
            "\n",
            "=== 🔵 3️⃣ Training the Neural Network ===\n",
            "\n",
            "\n",
            "=== 🟠 Epoch 1 ===\n",
            "\n",
            "Z2: [[0.02]]\n",
            "A2: [[0.50499983]]\n",
            "Z3: [[0.15149995]]\n",
            "A3: [[0.53780271]]\n",
            "D3: [[0.13119642]]\n",
            "D2: [[0.00983875]]\n",
            "grad_W3: [[0.06625417]]\n",
            "grad_b3: [[0.13119642]]\n",
            "grad_W2: [[0.00098387]]\n",
            "grad_b2: [[0.00983875]]\n",
            "\n",
            "Updated W2: [[0.19950806]]\n",
            "Updated b2: [[-0.00491937]]\n",
            "Updated W3: [[0.26687291]]\n",
            "Updated b3: [[-0.06559821]]\n",
            "Total Error: 0.2785757011274159\n",
            "\n",
            "=== 🟠 Epoch 2 ===\n",
            "\n",
            "Z2: [[0.01503143]]\n",
            "A2: [[0.50375779]]\n",
            "Z3: [[0.0688411]]\n",
            "A3: [[0.51720348]]\n",
            "D3: [[0.12665076]]\n",
            "D2: [[0.00844944]]\n",
            "grad_W3: [[0.06380131]]\n",
            "grad_b3: [[0.12665076]]\n",
            "grad_W2: [[0.00084494]]\n",
            "grad_b2: [[0.00844944]]\n",
            "\n",
            "Updated W2: [[0.19908559]]\n",
            "Updated b2: [[-0.00914409]]\n",
            "Updated W3: [[0.23497226]]\n",
            "Updated b3: [[-0.12892359]]\n",
            "Total Error: 0.2572553707648644\n"
          ]
        }
      ]
    },
    {
      "cell_type": "code",
      "source": [
        "print(\"\\n=== 🔵 4️⃣ Plot Total Error Graph ===\\n\")\n",
        "\n",
        "# Plot the graph of total errors\n",
        "plt.figure()\n",
        "plt.plot(range(1, epochs + 1), errors, '-o', label='Total Error')\n",
        "plt.xlabel('Epochs')\n",
        "plt.ylabel('Total Error')\n",
        "plt.title('Total Error vs. Epochs')\n",
        "plt.legend()\n",
        "plt.grid(True)\n",
        "plt.show()\n"
      ],
      "metadata": {
        "colab": {
          "base_uri": "https://localhost:8080/",
          "height": 524
        },
        "id": "2WTxMp8RNv4D",
        "outputId": "60a493ac-be1a-4020-a074-54aa1ab458ea"
      },
      "execution_count": 4,
      "outputs": [
        {
          "output_type": "stream",
          "name": "stdout",
          "text": [
            "\n",
            "=== 🔵 4️⃣ Plot Total Error Graph ===\n",
            "\n"
          ]
        },
        {
          "output_type": "display_data",
          "data": {
            "text/plain": [
              "<Figure size 640x480 with 1 Axes>"
            ],
            "image/png": "[encoded data removed]"
          },
          "metadata": {}
        }
      ]
    }
  ]
}