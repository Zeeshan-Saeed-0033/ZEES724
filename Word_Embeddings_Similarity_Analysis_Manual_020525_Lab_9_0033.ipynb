{
  "nbformat": 4,
  "nbformat_minor": 0,
  "metadata": {
    "colab": {
      "provenance": [],
      "gpuType": "T4"
    },
    "kernelspec": {
      "name": "python3",
      "display_name": "Python 3"
    },
    "language_info": {
      "name": "python"
    },
    "accelerator": "GPU"
  },
  "cells": [
    {
      "cell_type": "markdown",
      "source": [
        "🧩 **Section 1: Import Libraries**"
      ],
      "metadata": {
        "id": "4VxWjjKXmSeg"
      }
    },
    {
      "cell_type": "code",
      "source": [
        "import numpy as np\n",
        "from sklearn.metrics.pairwise import cosine_similarity"
      ],
      "metadata": {
        "id": "PiNC2dKYmWgP"
      },
      "execution_count": 3,
      "outputs": []
    },
    {
      "cell_type": "markdown",
      "source": [
        "**Section 2: Define Terms and Feature Vectors**"
      ],
      "metadata": {
        "id": "3cVdY6kZmZAP"
      }
    },
    {
      "cell_type": "code",
      "source": [
        "terms = [\n",
        "    \"apple juice\", \"cappuccino\", \"cheese bread sticks\", \"cheese pizza\",\n",
        "    \"cinnamon bread sticks\", \"donut\", \"green tea\", \"latte\", \"soda\", \"water\"\n",
        "]\n",
        "\n",
        "vectors = np.array([\n",
        "    [1, 5, 0, 0, 0, 4, 4, 3],  # apple juice\n",
        "    [0, 5, 3, 0, 4, 1, 2, 3],  # cappuccino\n",
        "    [5, 0, 4, 5, 0, 1, 4, 2],  # cheese bread sticks\n",
        "    [5, 0, 4, 4, 0, 1, 5, 2],  # cheese pizza\n",
        "    [5, 0, 4, 5, 0, 1, 4, 2],  # cinnamon bread sticks\n",
        "    [5, 0, 1, 5, 0, 4, 5, 1],  # donut\n",
        "    [0, 5, 0, 0, 2, 1, 1, 5],  # green tea\n",
        "    [0, 5, 4, 0, 4, 1, 3, 3],  # latte\n",
        "    [0, 5, 0, 0, 3, 5, 5, 0],  # soda\n",
        "    [0, 5, 0, 0, 0, 0, 0, 5]   # water\n",
        "])"
      ],
      "metadata": {
        "id": "wlbQeYvemk5v"
      },
      "execution_count": 4,
      "outputs": []
    },
    {
      "cell_type": "markdown",
      "source": [
        "**Section 3: Define the Similarity Function**"
      ],
      "metadata": {
        "id": "0TsLL1o0my8e"
      }
    },
    {
      "cell_type": "code",
      "source": [
        "def print_similarities(target_term, all_terms, all_vectors):\n",
        "    target_index = all_terms.index(target_term)\n",
        "    target_vector = all_vectors[target_index].reshape(1, -1)\n",
        "    similarities = cosine_similarity(target_vector, all_vectors)[0]\n",
        "    term_scores = list(zip(all_terms, similarities))\n",
        "    term_scores_sorted = sorted(term_scores, key=lambda x: x[1], reverse=True)\n",
        "    term_scores_sorted = [item for item in term_scores_sorted if item[0] != target_term]\n",
        "\n",
        "    print(f\"\\nVector Similarity Scores: {target_term}\")\n",
        "    for term, score in term_scores_sorted:\n",
        "        print(f\"{score:.2f} {term}\")"
      ],
      "metadata": {
        "id": "VHQxDM_Km1n2"
      },
      "execution_count": 5,
      "outputs": []
    },
    {
      "cell_type": "markdown",
      "source": [
        "🚀 **Section 4: Run Similarity for Selected Terms**"
      ],
      "metadata": {
        "id": "8_CC_I8xnGO-"
      }
    },
    {
      "cell_type": "code",
      "source": [
        "print_similarities(\"green tea\", terms, vectors)\n",
        "print_similarities(\"cheese pizza\", terms, vectors)\n",
        "print_similarities(\"donut\", terms, vectors)"
      ],
      "metadata": {
        "colab": {
          "base_uri": "https://localhost:8080/"
        },
        "id": "pt2ANmRDnI_O",
        "outputId": "48e99c26-a187-4c13-9920-68559d041243"
      },
      "execution_count": 6,
      "outputs": [
        {
          "output_type": "stream",
          "name": "stdout",
          "text": [
            "\n",
            "Vector Similarity Scores: green tea\n",
            "0.94 water\n",
            "0.85 cappuccino\n",
            "0.80 latte\n",
            "0.78 apple juice\n",
            "0.60 soda\n",
            "0.23 cheese pizza\n",
            "0.21 cheese bread sticks\n",
            "0.21 cinnamon bread sticks\n",
            "0.19 donut\n",
            "\n",
            "Vector Similarity Scores: cheese pizza\n",
            "0.99 cheese bread sticks\n",
            "0.99 cinnamon bread sticks\n",
            "0.89 donut\n",
            "0.47 latte\n",
            "0.46 apple juice\n",
            "0.39 cappuccino\n",
            "0.35 soda\n",
            "0.23 green tea\n",
            "0.15 water\n",
            "\n",
            "Vector Similarity Scores: donut\n",
            "0.89 cheese bread sticks\n",
            "0.89 cheese pizza\n",
            "0.89 cinnamon bread sticks\n",
            "0.56 apple juice\n",
            "0.51 soda\n",
            "0.31 latte\n",
            "0.26 cappuccino\n",
            "0.19 green tea\n",
            "0.07 water\n"
          ]
        }
      ]
    }
  ]
}